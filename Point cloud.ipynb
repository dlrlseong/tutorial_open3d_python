{
 "cells": [
  {
   "cell_type": "code",
   "execution_count": 1,
   "id": "9741813d",
   "metadata": {},
   "outputs": [],
   "source": [
    "import open3d as o3d\n",
    "import numpy as np"
   ]
  },
  {
   "cell_type": "markdown",
   "id": "f3719ef6",
   "metadata": {},
   "source": [
    "## Visualize Point Cloud"
   ]
  },
  {
   "cell_type": "code",
   "execution_count": 2,
   "id": "16e1420b",
   "metadata": {},
   "outputs": [
    {
     "name": "stdout",
     "output_type": "stream",
     "text": [
      "Load a ply point cloud, print it, and render it\n",
      "PointCloud with 196133 points.\n",
      "[[0.65234375 0.84686458 2.37890625]\n",
      " [0.65234375 0.83984375 2.38430572]\n",
      " [0.66737998 0.83984375 2.37890625]\n",
      " ...\n",
      " [2.00839925 2.39453125 1.88671875]\n",
      " [2.00390625 2.39488506 1.88671875]\n",
      " [2.00390625 2.39453125 1.88793314]]\n"
     ]
    }
   ],
   "source": [
    "\n",
    "print(\"Load a ply point cloud, print it, and render it\")\n",
    "ply_point_cloud = o3d.data.PLYPointCloud()\n",
    "pcd = o3d.io.read_point_cloud(ply_point_cloud.path)\n",
    "print(pcd)\n",
    "print(np.asarray(pcd.points))\n",
    "# o3d.visualization.draw_geometries([pcd],\n",
    "#                                   zoom=0.3412,\n",
    "#                                   front=[0.4257, -0.2125, -0.8795],\n",
    "#                                   lookat=[2.6172, 2.0475, 1.532],\n",
    "#                                   up=[-0.0694, -0.9768, 0.2024])\n"
   ]
  },
  {
   "cell_type": "markdown",
   "id": "ba17f838",
   "metadata": {},
   "source": [
    "## Voxel Downsampling"
   ]
  },
  {
   "cell_type": "code",
   "execution_count": 3,
   "id": "b0ffe472",
   "metadata": {},
   "outputs": [
    {
     "name": "stdout",
     "output_type": "stream",
     "text": [
      "Downsample the point cloud with a voxel of 0.05\n"
     ]
    }
   ],
   "source": [
    "print(\"Downsample the point cloud with a voxel of 0.05\")\n",
    "downpcd = pcd.voxel_down_sample(voxel_size=0.05)\n",
    "# o3d.visualization.draw_geometries([downpcd],\n",
    "#                                   zoom=0.3412,\n",
    "#                                   front=[0.4257, -0.2125, -0.8795],\n",
    "#                                   lookat=[2.6172, 2.0475, 1.532],\n",
    "#                                   up=[-0.0694, -0.9768, 0.2024])"
   ]
  },
  {
   "cell_type": "markdown",
   "id": "e9a3e0d1",
   "metadata": {},
   "source": [
    "## Vertex Normal Estimation"
   ]
  },
  {
   "cell_type": "code",
   "execution_count": 4,
   "id": "bb5fd8c8",
   "metadata": {},
   "outputs": [
    {
     "name": "stdout",
     "output_type": "stream",
     "text": [
      "Recompute the normal of the downsampled point cloud\n"
     ]
    }
   ],
   "source": [
    "print(\"Recompute the normal of the downsampled point cloud\")\n",
    "downpcd.estimate_normals(\n",
    "    search_param=o3d.geometry.KDTreeSearchParamHybrid(radius=0.1, max_nn=30))\n",
    "# o3d.visualization.draw_geometries([downpcd],\n",
    "#                                   zoom=0.3412,\n",
    "#                                   front=[0.4257, -0.2125, -0.8795],\n",
    "#                                   lookat=[2.6172, 2.0475, 1.532],\n",
    "#                                   up=[-0.0694, -0.9768, 0.2024],\n",
    "#                                   point_show_normal=True)"
   ]
  },
  {
   "cell_type": "markdown",
   "id": "0cfec483",
   "metadata": {},
   "source": [
    "## Access Estimated Vertex Normal"
   ]
  },
  {
   "cell_type": "code",
   "execution_count": 5,
   "id": "11290e0f",
   "metadata": {},
   "outputs": [
    {
     "name": "stdout",
     "output_type": "stream",
     "text": [
      "Print a normal vector of the 0th point\n",
      "[-0.27566603 -0.89197839 -0.35830543]\n",
      "Print the normal vectors of the first 10 points\n",
      "[[-0.27566603 -0.89197839 -0.35830543]\n",
      " [-0.00694405 -0.99478075 -0.10179902]\n",
      " [-0.00399871 -0.99965423 -0.02598917]\n",
      " [-0.46344316 -0.68643798 -0.56037785]\n",
      " [-0.43476205 -0.62438493 -0.64894177]\n",
      " [-0.51440078 -0.56093481 -0.6486478 ]\n",
      " [-0.27498453 -0.67317361 -0.68645524]\n",
      " [-0.00327304 -0.99977409 -0.02100143]\n",
      " [-0.01464332 -0.99960281 -0.02407874]\n",
      " [-0.13075895 -0.94176382 -0.30981124]]\n"
     ]
    }
   ],
   "source": [
    "print(\"Print a normal vector of the 0th point\")\n",
    "print(downpcd.normals[0])\n",
    "\n",
    "# help(downpcd)\n",
    "\n",
    "print(\"Print the normal vectors of the first 10 points\")\n",
    "print(np.asarray(downpcd.normals)[:10, :])"
   ]
  },
  {
   "cell_type": "markdown",
   "id": "8f1446d5",
   "metadata": {},
   "source": [
    "## Crop Point Cloud"
   ]
  },
  {
   "cell_type": "code",
   "execution_count": null,
   "id": "bfee31a9",
   "metadata": {},
   "outputs": [],
   "source": [
    "print(\"Load a polygon volume and use it to crop the original point cloud\")\n",
    "demo_crop_data = o3d.data.DemoCropPointCloud()\n",
    "pcd = o3d.io.read_point_cloud(demo_crop_data.point_cloud_path)\n",
    "vol = o3d.visualization.read_selection_polygon_volume(demo_crop_data.cropped_json_path)\n",
    "chair = vol.crop_point_cloud(pcd)\n",
    "o3d.visualization.draw_geometries([chair],\n",
    "                                  zoom=0.7,\n",
    "                                  front=[0.5439, -0.2333, -0.8060],\n",
    "                                  lookat=[2.4615, 2.1331, 1.338],\n",
    "                                  up=[-0.1781, -0.9708, 0.1608])"
   ]
  }
 ],
 "metadata": {
  "kernelspec": {
   "display_name": "Python 3.8.15 ('open3d')",
   "language": "python",
   "name": "python3"
  },
  "language_info": {
   "codemirror_mode": {
    "name": "ipython",
    "version": 3
   },
   "file_extension": ".py",
   "mimetype": "text/x-python",
   "name": "python",
   "nbconvert_exporter": "python",
   "pygments_lexer": "ipython3",
   "version": "3.8.15"
  },
  "vscode": {
   "interpreter": {
    "hash": "08752bf9174f04a730dd67e41f67030587afaa0dd0556bc9c9593f4a936ef79c"
   }
  }
 },
 "nbformat": 4,
 "nbformat_minor": 5
}
